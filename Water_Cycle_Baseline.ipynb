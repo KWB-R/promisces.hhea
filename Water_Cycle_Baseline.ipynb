{
 "cells": [
  {
   "cell_type": "code",
   "execution_count": 1,
   "id": "9ac14956-92dd-4503-9256-70b1f649b95a",
   "metadata": {
    "scrolled": false
   },
   "outputs": [],
   "source": [
    "from promisces import *\n",
    "import numpy as np\n",
    "from copy import deepcopy"
   ]
  },
  {
   "cell_type": "markdown",
   "id": "3cd88d79",
   "metadata": {},
   "source": [
    "#  Example: PFAS in the \"semi-closed water cycle\"\n",
    "\n",
    "The semi-closed water cycle is a combination of wastewater treatment, dilutions processes in surface water and groundwater, bank filtration and drinking water treatment.\n",
    "\n",
    "In this example the exposure to 14 substancesis simulated. The data sent contains removal data for one of them (PFOA) as an example. Additional literature data can manually be added. However, the simulation even runs without literature data, using the prior information only. Case study specific data, like on-site measurements, can be added to further refine the results.\n",
    "\n",
    "To run a simulation, a starting concentration and a tolerable final concentration (reference value) must be provided. In case of mixture processes, like dilution by surface water, this information is needed additionally.  "
   ]
  },
  {
   "cell_type": "markdown",
   "id": "91fbe620",
   "metadata": {},
   "source": [
    "## 1. Enter starting concentration and reference value per substance\n",
    "### Starting concentrations\n",
    "As a starting concentration the maximum value from the PROMISCES HHEA Dataset was used per substance in raw wastewter.\n",
    "\n",
    "### Reference values\n",
    "Reference values for the single PFAS substances are derived from the threshold of PFAS-20 sum according to the European drinking water directive. The threshold value for all 20 PFAS is 100 ng/L, equally distributed among the 20 substances that leads to 5 ng/L per substance. However, substances have a different toxicity which need to be considered. This can be done by using Relative Potancy Factors (RPFs) in relation to PFOA toxicity (ex. the RPF of PFOA and PFOS is 1 and 2, respectively. That leads to single compound threshold of 5 ng/L and 2.5 ng/L)\n",
    "The RPFs were taken from:\n",
    "\n",
    "\"RIVM 2025\":https://www.rivm.nl/pfas/rpf\n",
    "(accessed 2025-04-15)\n",
    "\n",
    "based on \n",
    "\n",
    "[1] Bil W, Zeilmaker M, Fragki S, Lijzen J, Verbruggen E, Bokkers B. 2021. Risk assessment of per‐ and polyfluoroalkyl substance mixtures: a relative potency factor approach. Environ Toxicol Chem 40 (3): 859–870. \n",
    "\n",
    "[2] RIVM. 2022. RIVM-VSP (Veiligheid Stoffen en Producten) Advies 14434A02–Drinkwaterrichtwaarde voor trifluorazijnzuur, 02-02-2022. \n",
    "\n",
    "[3] Smit CE (Conformité Européenne), Verbruggen EMJ. 2022. Risicogrenzen voor PFAS in oppervlaktewater. Doorvertaling van de gezondheidskundige grenswaarde van EFSA (Europese Voedselveiligheidsautoriteit) naar concentraties in water. RIVM Briefrapport 2022-0074.  \n",
    "\n",
    "\n",
    "### Special case PFPeS and TFMSA\n",
    "To possible solutions to include substance without any knowledge about their concentration:\n",
    " - For PFPeS there was no concentration in raw wastewater available. Instead a concentration 100 times the reference value was used. \n",
    "\n",
    " - For TFMSA neither starting concentration nor reference value were available. It was decided to conduct a relative assessment where reference value and starting conentration were set to 1 and 100, respectively.\n"
   ]
  },
  {
   "cell_type": "code",
   "execution_count": 2,
   "id": "f92115c8",
   "metadata": {},
   "outputs": [
    {
     "ename": "AttributeError",
     "evalue": "'Substance' object has no attribute 'with_starting_concentration'",
     "output_type": "error",
     "traceback": [
      "\u001b[1;31m---------------------------------------------------------------------------\u001b[0m",
      "\u001b[1;31mAttributeError\u001b[0m                            Traceback (most recent call last)",
      "Cell \u001b[1;32mIn[2], line 4\u001b[0m\n\u001b[0;32m      1\u001b[0m \u001b[38;5;66;03m# substances\u001b[39;00m\n\u001b[0;32m      2\u001b[0m substances \u001b[38;5;241m=\u001b[39m [\n\u001b[0;32m      3\u001b[0m     \u001b[43mSubstances\u001b[49m\u001b[38;5;241;43m.\u001b[39;49m\u001b[43mpfba\u001b[49m\u001b[43m \u001b[49m\u001b[43m\\\u001b[49m\n\u001b[1;32m----> 4\u001b[0m \u001b[43m        \u001b[49m\u001b[38;5;241;43m.\u001b[39;49m\u001b[43mwith_starting_concentration\u001b[49m(StartingConcentration(np\u001b[38;5;241m.\u001b[39marray([\u001b[38;5;241m19\u001b[39m]))) \\\n\u001b[0;32m      5\u001b[0m         \u001b[38;5;241m.\u001b[39mwith_reference(Reference(\u001b[38;5;124m\"\u001b[39m\u001b[38;5;124mBundesministerium für Gesundheit 2023, Zeilmaker et al., 2018 \u001b[39m\u001b[38;5;124m\"\u001b[39m, \u001b[38;5;241m100\u001b[39m, \u001b[38;5;241m2023\u001b[39m, \u001b[38;5;124m\"\u001b[39m\u001b[38;5;124m\"\u001b[39m)),\n\u001b[0;32m      6\u001b[0m     Substances\u001b[38;5;241m.\u001b[39mpfpea \\\n\u001b[0;32m      7\u001b[0m         \u001b[38;5;241m.\u001b[39mwith_starting_concentration(StartingConcentration(np\u001b[38;5;241m.\u001b[39marray([\u001b[38;5;241m27\u001b[39m]))) \\\n\u001b[0;32m      8\u001b[0m         \u001b[38;5;241m.\u001b[39mwith_reference(Reference(\u001b[38;5;124m\"\u001b[39m\u001b[38;5;124mBundesministerium für Gesundheit 2023, Zeilmaker et al., 2018 \u001b[39m\u001b[38;5;124m\"\u001b[39m, \u001b[38;5;241m100\u001b[39m, \u001b[38;5;241m2023\u001b[39m, \u001b[38;5;124m\"\u001b[39m\u001b[38;5;124m\"\u001b[39m)),\n\u001b[0;32m      9\u001b[0m     Substances\u001b[38;5;241m.\u001b[39mpfhxa \\\n\u001b[0;32m     10\u001b[0m         \u001b[38;5;241m.\u001b[39mwith_starting_concentration(StartingConcentration(np\u001b[38;5;241m.\u001b[39marray([\u001b[38;5;241m270\u001b[39m]))) \\\n\u001b[0;32m     11\u001b[0m         \u001b[38;5;241m.\u001b[39mwith_reference(Reference(\u001b[38;5;124m\"\u001b[39m\u001b[38;5;124mBundesministerium für Gesundheit 2023, Zeilmaker et al., 2018 \u001b[39m\u001b[38;5;124m\"\u001b[39m, \u001b[38;5;241m500\u001b[39m, \u001b[38;5;241m2023\u001b[39m, \u001b[38;5;124m\"\u001b[39m\u001b[38;5;124m\"\u001b[39m)),\n\u001b[0;32m     12\u001b[0m     Substances\u001b[38;5;241m.\u001b[39mpfhpa \\\n\u001b[0;32m     13\u001b[0m         \u001b[38;5;241m.\u001b[39mwith_starting_concentration(StartingConcentration(np\u001b[38;5;241m.\u001b[39marray([\u001b[38;5;241m58\u001b[39m]))) \\\n\u001b[0;32m     14\u001b[0m         \u001b[38;5;241m.\u001b[39mwith_reference(Reference(\u001b[38;5;124m\"\u001b[39m\u001b[38;5;124mBundesministerium für Gesundheit 2023, Zeilmaker et al., 2018 \u001b[39m\u001b[38;5;124m\"\u001b[39m, \u001b[38;5;241m5\u001b[39m, \u001b[38;5;241m2023\u001b[39m, \u001b[38;5;124m\"\u001b[39m\u001b[38;5;124m\"\u001b[39m)),\n\u001b[0;32m     15\u001b[0m     Substances\u001b[38;5;241m.\u001b[39mpfoa \\\n\u001b[0;32m     16\u001b[0m         \u001b[38;5;241m.\u001b[39mwith_starting_concentration(StartingConcentration(np\u001b[38;5;241m.\u001b[39marray([\u001b[38;5;241m550\u001b[39m]))) \\\n\u001b[0;32m     17\u001b[0m         \u001b[38;5;241m.\u001b[39mwith_reference(Reference(\u001b[38;5;124m\"\u001b[39m\u001b[38;5;124mBundesministerium für Gesundheit 2023, Zeilmaker et al., 2018 \u001b[39m\u001b[38;5;124m\"\u001b[39m, \u001b[38;5;241m5\u001b[39m, \u001b[38;5;241m2023\u001b[39m, \u001b[38;5;124m\"\u001b[39m\u001b[38;5;124m\"\u001b[39m)),\n\u001b[0;32m     18\u001b[0m     Substances\u001b[38;5;241m.\u001b[39mpfna \\\n\u001b[0;32m     19\u001b[0m         \u001b[38;5;241m.\u001b[39mwith_starting_concentration(StartingConcentration(np\u001b[38;5;241m.\u001b[39marray([\u001b[38;5;241m26.4\u001b[39m]))) \\\n\u001b[0;32m     20\u001b[0m         \u001b[38;5;241m.\u001b[39mwith_reference(Reference(\u001b[38;5;124m\"\u001b[39m\u001b[38;5;124mBundesministerium für Gesundheit 2023, Zeilmaker et al., 2018 \u001b[39m\u001b[38;5;124m\"\u001b[39m, \u001b[38;5;241m0.5\u001b[39m, \u001b[38;5;241m2023\u001b[39m, \u001b[38;5;124m\"\u001b[39m\u001b[38;5;124m\"\u001b[39m)),\n\u001b[0;32m     21\u001b[0m     Substances\u001b[38;5;241m.\u001b[39mpfda \\\n\u001b[0;32m     22\u001b[0m         \u001b[38;5;241m.\u001b[39mwith_starting_concentration(StartingConcentration(np\u001b[38;5;241m.\u001b[39marray([\u001b[38;5;241m27\u001b[39m]))) \\\n\u001b[0;32m     23\u001b[0m         \u001b[38;5;241m.\u001b[39mwith_reference(Reference(\u001b[38;5;124m\"\u001b[39m\u001b[38;5;124mBundesministerium für Gesundheit 2023, Zeilmaker et al., 2018 \u001b[39m\u001b[38;5;124m\"\u001b[39m, \u001b[38;5;241m0.5\u001b[39m, \u001b[38;5;241m2023\u001b[39m, \u001b[38;5;124m\"\u001b[39m\u001b[38;5;124m\"\u001b[39m)),\n\u001b[0;32m     24\u001b[0m     Substances\u001b[38;5;241m.\u001b[39mpfbs \\\n\u001b[0;32m     25\u001b[0m         \u001b[38;5;241m.\u001b[39mwith_starting_concentration(StartingConcentration(np\u001b[38;5;241m.\u001b[39marray([\u001b[38;5;241m37\u001b[39m]))) \\\n\u001b[0;32m     26\u001b[0m         \u001b[38;5;241m.\u001b[39mwith_reference(Reference(\u001b[38;5;124m\"\u001b[39m\u001b[38;5;124mBundesministerium für Gesundheit 2023, Zeilmaker et al., 2018 \u001b[39m\u001b[38;5;124m\"\u001b[39m, \u001b[38;5;241m5000\u001b[39m, \u001b[38;5;241m2023\u001b[39m, \u001b[38;5;124m\"\u001b[39m\u001b[38;5;124m\"\u001b[39m)),\n\u001b[0;32m     27\u001b[0m     Substances\u001b[38;5;241m.\u001b[39mpfpes \\\n\u001b[0;32m     28\u001b[0m         \u001b[38;5;241m.\u001b[39mwith_starting_concentration(StartingConcentration(np\u001b[38;5;241m.\u001b[39marray([\u001b[38;5;241m830\u001b[39m]))) \\\n\u001b[0;32m     29\u001b[0m         \u001b[38;5;241m.\u001b[39mwith_reference(Reference(\u001b[38;5;124m\"\u001b[39m\u001b[38;5;124mBundesministerium für Gesundheit 2023, Zeilmaker et al., 2018 \u001b[39m\u001b[38;5;124m\"\u001b[39m, \u001b[38;5;241m8.3\u001b[39m, \u001b[38;5;241m2023\u001b[39m, \u001b[38;5;124m\"\u001b[39m\u001b[38;5;124m\"\u001b[39m)),\n\u001b[0;32m     30\u001b[0m     Substances\u001b[38;5;241m.\u001b[39mpfhxs \\\n\u001b[0;32m     31\u001b[0m         \u001b[38;5;241m.\u001b[39mwith_starting_concentration(StartingConcentration(np\u001b[38;5;241m.\u001b[39marray([\u001b[38;5;241m54\u001b[39m]))) \\\n\u001b[0;32m     32\u001b[0m         \u001b[38;5;241m.\u001b[39mwith_reference(Reference(\u001b[38;5;124m\"\u001b[39m\u001b[38;5;124mBundesministerium für Gesundheit 2023, Zeilmaker et al., 2018 \u001b[39m\u001b[38;5;124m\"\u001b[39m, \u001b[38;5;241m8.3\u001b[39m, \u001b[38;5;241m2023\u001b[39m, \u001b[38;5;124m\"\u001b[39m\u001b[38;5;124m\"\u001b[39m)),\n\u001b[0;32m     33\u001b[0m     Substances\u001b[38;5;241m.\u001b[39mpfos \\\n\u001b[0;32m     34\u001b[0m         \u001b[38;5;241m.\u001b[39mwith_starting_concentration(StartingConcentration(np\u001b[38;5;241m.\u001b[39marray([\u001b[38;5;241m449\u001b[39m]))) \\\n\u001b[0;32m     35\u001b[0m         \u001b[38;5;241m.\u001b[39mwith_reference(Reference(\u001b[38;5;124m\"\u001b[39m\u001b[38;5;124mBundesministerium für Gesundheit 2023, Zeilmaker et al., 2018 \u001b[39m\u001b[38;5;124m\"\u001b[39m, \u001b[38;5;241m2.5\u001b[39m, \u001b[38;5;241m2023\u001b[39m, \u001b[38;5;124m\"\u001b[39m\u001b[38;5;124m\"\u001b[39m)), \n\u001b[0;32m     36\u001b[0m     Substances\u001b[38;5;241m.\u001b[39mtfmsa \\\n\u001b[0;32m     37\u001b[0m         \u001b[38;5;241m.\u001b[39mwith_starting_concentration(StartingConcentration(np\u001b[38;5;241m.\u001b[39marray([\u001b[38;5;241m100\u001b[39m]))) \\\n\u001b[0;32m     38\u001b[0m         \u001b[38;5;241m.\u001b[39mwith_reference(Reference(\u001b[38;5;124m\"\u001b[39m\u001b[38;5;124mNo Reference - relative assessment\u001b[39m\u001b[38;5;124m\"\u001b[39m, \u001b[38;5;241m1\u001b[39m, \u001b[38;5;241m0\u001b[39m, \u001b[38;5;124m\"\u001b[39m\u001b[38;5;124m\"\u001b[39m)),\n\u001b[0;32m     39\u001b[0m     Substances\u001b[38;5;241m.\u001b[39mbenzo \\\n\u001b[0;32m     40\u001b[0m         \u001b[38;5;241m.\u001b[39mwith_starting_concentration(StartingConcentration(np\u001b[38;5;241m.\u001b[39marray([\u001b[38;5;241m44000\u001b[39m]))) \\\n\u001b[0;32m     41\u001b[0m         \u001b[38;5;241m.\u001b[39mwith_reference(Reference(\u001b[38;5;124m\"\u001b[39m\u001b[38;5;124mUmweltbundesamt 2023 \u001b[39m\u001b[38;5;124m\"\u001b[39m, \u001b[38;5;241m3000\u001b[39m, \u001b[38;5;241m2023\u001b[39m, \u001b[38;5;124m\"\u001b[39m\u001b[38;5;124m\"\u001b[39m)),\n\u001b[0;32m     42\u001b[0m     Substances\u001b[38;5;241m.\u001b[39mcbz \\\n\u001b[0;32m     43\u001b[0m         \u001b[38;5;241m.\u001b[39mwith_starting_concentration(StartingConcentration(np\u001b[38;5;241m.\u001b[39marray([\u001b[38;5;241m5000\u001b[39m]))) \\\n\u001b[0;32m     44\u001b[0m         \u001b[38;5;241m.\u001b[39mwith_reference(Reference(\u001b[38;5;124m\"\u001b[39m\u001b[38;5;124mUBA GOW (july 2020)\u001b[39m\u001b[38;5;124m\"\u001b[39m, \u001b[38;5;241m300\u001b[39m, \u001b[38;5;241m2020\u001b[39m, \u001b[38;5;124m\"\u001b[39m\u001b[38;5;124m\"\u001b[39m)),\n\u001b[0;32m     45\u001b[0m ]\n",
      "\u001b[1;31mAttributeError\u001b[0m: 'Substance' object has no attribute 'with_starting_concentration'"
     ]
    }
   ],
   "source": [
    "# substances\n",
    "substances = [\n",
    "    Substances.pfba \\\n",
    "        .with_starting_concentration(StartingConcentration(np.array([19]))) \\\n",
    "        .with_reference(Reference(\"Bundesministerium für Gesundheit 2023, Zeilmaker et al., 2018 \", 100, 2023, \"\")),\n",
    "    Substances.pfpea \\\n",
    "        .with_starting_concentration(StartingConcentration(np.array([27]))) \\\n",
    "        .with_reference(Reference(\"Bundesministerium für Gesundheit 2023, Zeilmaker et al., 2018 \", 100, 2023, \"\")),\n",
    "    Substances.pfhxa \\\n",
    "        .with_starting_concentration(StartingConcentration(np.array([270]))) \\\n",
    "        .with_reference(Reference(\"Bundesministerium für Gesundheit 2023, Zeilmaker et al., 2018 \", 500, 2023, \"\")),\n",
    "    Substances.pfhpa \\\n",
    "        .with_starting_concentration(StartingConcentration(np.array([58]))) \\\n",
    "        .with_reference(Reference(\"Bundesministerium für Gesundheit 2023, Zeilmaker et al., 2018 \", 5, 2023, \"\")),\n",
    "    Substances.pfoa \\\n",
    "        .with_starting_concentration(StartingConcentration(np.array([550]))) \\\n",
    "        .with_reference(Reference(\"Bundesministerium für Gesundheit 2023, Zeilmaker et al., 2018 \", 5, 2023, \"\")),\n",
    "    Substances.pfna \\\n",
    "        .with_starting_concentration(StartingConcentration(np.array([26.4]))) \\\n",
    "        .with_reference(Reference(\"Bundesministerium für Gesundheit 2023, Zeilmaker et al., 2018 \", 0.5, 2023, \"\")),\n",
    "    Substances.pfda \\\n",
    "        .with_starting_concentration(StartingConcentration(np.array([27]))) \\\n",
    "        .with_reference(Reference(\"Bundesministerium für Gesundheit 2023, Zeilmaker et al., 2018 \", 0.5, 2023, \"\")),\n",
    "    Substances.pfbs \\\n",
    "        .with_starting_concentration(StartingConcentration(np.array([37]))) \\\n",
    "        .with_reference(Reference(\"Bundesministerium für Gesundheit 2023, Zeilmaker et al., 2018 \", 5000, 2023, \"\")),\n",
    "    Substances.pfpes \\\n",
    "        .with_starting_concentration(StartingConcentration(np.array([830]))) \\\n",
    "        .with_reference(Reference(\"Bundesministerium für Gesundheit 2023, Zeilmaker et al., 2018 \", 8.3, 2023, \"\")),\n",
    "    Substances.pfhxs \\\n",
    "        .with_starting_concentration(StartingConcentration(np.array([54]))) \\\n",
    "        .with_reference(Reference(\"Bundesministerium für Gesundheit 2023, Zeilmaker et al., 2018 \", 8.3, 2023, \"\")),\n",
    "    Substances.pfos \\\n",
    "        .with_starting_concentration(StartingConcentration(np.array([449]))) \\\n",
    "        .with_reference(Reference(\"Bundesministerium für Gesundheit 2023, Zeilmaker et al., 2018 \", 2.5, 2023, \"\")), \n",
    "    Substances.tfmsa \\\n",
    "        .with_starting_concentration(StartingConcentration(np.array([100]))) \\\n",
    "        .with_reference(Reference(\"No Reference - relative assessment\", 1, 0, \"\")),\n",
    "    Substances.benzo \\\n",
    "        .with_starting_concentration(StartingConcentration(np.array([44000]))) \\\n",
    "        .with_reference(Reference(\"Umweltbundesamt 2023 \", 3000, 2023, \"\")),\n",
    "    Substances.cbz \\\n",
    "        .with_starting_concentration(StartingConcentration(np.array([5000]))) \\\n",
    "        .with_reference(Reference(\"UBA GOW (july 2020)\", 300, 2020, \"\")),\n",
    "]"
   ]
  },
  {
   "cell_type": "markdown",
   "id": "cd4e6858",
   "metadata": {},
   "source": [
    "## 2. Define the treatment train, \n",
    "The TreatmentTrain() definition uses a list of treatments as input. All implemented treatments can be called by \"Treatments.\""
   ]
  },
  {
   "cell_type": "code",
   "execution_count": null,
   "id": "b0d00a78",
   "metadata": {},
   "outputs": [],
   "source": [
    "base_tt = TreatmentTrain([\n",
    "    Treatments.wwtt, # primary and secondary wastewater treatment\n",
    "    Treatments.wwco, # additional wastewater treatment: coagulation \n",
    "    Treatments.dilsw, # dilution by surface water\n",
    "    Treatments.npbk, # bank filtration\n",
    "    Treatments.dilgw, # dilution by groundwater\n",
    "    Treatments.dwae, # drinking water treatment: aeration\n",
    "    Treatments.dwrf, # drinking water treatment: rapid filtration\n",
    "    Treatments.dwac # drinking water treatemtn: activated carbon\n",
    "])"
   ]
  },
  {
   "cell_type": "markdown",
   "id": "4b9e697b",
   "metadata": {},
   "source": [
    "## 3. Add mixture data characteristics (Optionally substance specific)\n",
    "For each mixture process (prefix either \"dil\" or \"sep\"), site-specific characteristics need to be added. For mixtures which are not substance-dependent this can simply be done as shown above in the treatment train. If the concentration is specific for a substance, it can be added by looping through the substances and provide a list of mean background concentrations."
   ]
  },
  {
   "cell_type": "code",
   "execution_count": null,
   "id": "31ab4a09",
   "metadata": {},
   "outputs": [],
   "source": [
    "# No background concentration in river and groundwater\n",
    "x_m_river = 0.666\n",
    "x_sd_river = x_m_river * 0.2\n",
    "x_m_ground = 0.25\n",
    "x_sd_ground = x_m_ground * 0.2\n",
    "c_m_river = []\n",
    "c_m_ground = []\n",
    "\n",
    "river_mixture, groundwater_mixture = [], []\n",
    "for i,s in enumerate(substances):\n",
    "    river_mixture += [Mixture(x_m_river, x_sd_river, 0, 0)]\n",
    "    groundwater_mixture  += [Mixture(x_m_ground, x_sd_ground, 0, 0)]"
   ]
  },
  {
   "cell_type": "markdown",
   "id": "240c8f10",
   "metadata": {},
   "source": [
    "## 4. Add site-specific removal factors (optional)\n",
    "In this example, on-site measurements for the removal by granular activated carbon as drinking water treatment  (dwac) were available. Per treatment step, site specific removal factors can be added. If this is done for a treatment, all substances defined above need to be listed in the same order, even if there is no data available. In this case an empty array can be provided to the RemovalPercent() definition."
   ]
  },
  {
   "cell_type": "code",
   "execution_count": null,
   "id": "759d6102",
   "metadata": {},
   "outputs": [],
   "source": [
    "# between 10 000 and 20 000 bed volume\n",
    "removals = {\n",
    "     Treatments.dwac: {\n",
    "        Substances.pfba: RemovalPercent(np.array([8, 7, 5, 8, 4, 4, 5])),\n",
    "        Substances.pfpea: RemovalPercent(np.array([6, 4, 4, 15, 10, 15, 11])),\n",
    "        Substances.pfhxa: RemovalPercent(np.array([7,4,9,26,25,27,32])),\n",
    "        Substances.pfhpa: RemovalPercent(np.array([17,12,19,25,20,29,31])),\n",
    "        Substances.pfoa: RemovalPercent(np.array([27,21,21,39,23,40,30])),\n",
    "        Substances.pfna: RemovalPercent(np.array([30,17,23,35,18,59,39])),\n",
    "        Substances.pfda: RemovalPercent(np.array([33,42,34,26,-8,74,34])),\n",
    "        Substances.pfbs: RemovalPercent(np.array([-9,6,-12,33,26,32,29])),\n",
    "        Substances.pfpes: RemovalPercent(np.array([31,21,30,42,36,41,38])),\n",
    "        Substances.pfhxs: RemovalPercent(np.array([31,23,31,43,36,51,39])),\n",
    "        Substances.pfos: RemovalPercent(np.array([33,27,28,42,18,69,34])),\n",
    "        Substances.tfmsa: RemovalPercent(np.array([6,8,5,15,7,3,-3,4])),\n",
    "        Substances.benzo: RemovalPercent(np.array([88,89,89,85,89,88,78,79])),\n",
    "        Substances.cbz: RemovalPercent(np.array([99,98,99,98,97,94,99,99]))\n",
    "     }\n",
    "}"
   ]
  },
  {
   "cell_type": "markdown",
   "id": "3f6d91bb",
   "metadata": {},
   "source": [
    "## 5. Create scenarios to be compared\n",
    "In our example, we want to compare the exposure to different substances by the same treatment train. One scenario is defined as a unique combination of i) substance, ii) treatment train and iii) treatment properties (including mixture properties). Per substance 1 scenario will be created. By looping through the substances, all substance-specific information can be added."
   ]
  },
  {
   "cell_type": "code",
   "execution_count": null,
   "id": "2dd23c9c",
   "metadata": {},
   "outputs": [],
   "source": [
    "# create scenarios using treatment trains, substance properties and indput matrix\n",
    "sc_baseline = []\n",
    "for i,s in enumerate(substances):\n",
    "        r = removals[Treatments.dwac][s]\n",
    "        base_tt[-1].with_removal(r)\n",
    "        base_tt[2].with_mixture(river_mixture[i])\n",
    "        base_tt[4].with_mixture(groundwater_mixture[i])\n",
    "        \n",
    "        t = deepcopy(base_tt)\n",
    "       \n",
    "        sc_baseline += [Scenario(\n",
    "            f\"{s.id}\",\n",
    "            input_matrix = Matrices.rww,\n",
    "            substance = s,\n",
    "            treatment_train = t,\n",
    "        )]\n",
    "\n"
   ]
  },
  {
   "cell_type": "markdown",
   "id": "89d3dfc1",
   "metadata": {},
   "source": [
    "## 6. Run simulation"
   ]
  },
  {
   "cell_type": "code",
   "execution_count": null,
   "id": "1f536669",
   "metadata": {},
   "outputs": [],
   "source": [
    "result_baseline = []\n",
    "for sc in sc_baseline:\n",
    "    result_baseline += [sc.simulate_removal(n_runs = 10000)]"
   ]
  },
  {
   "cell_type": "markdown",
   "id": "d2cc15a8",
   "metadata": {},
   "source": [
    "## 7. Plot results\n",
    "### Profiles along the treatment train\n",
    "The concentration and removal factors can be displayed with er_profiles() for selected scenarios (one single scenario is possible). Mixture processes can be excluded from the removal factor plot because the inflow of contaminated water sources can lead to high negative \"removal factors\" which cannot be compared to the remaining processes.\n",
    "### Scenario comparison at the end of the treatment train\n",
    "The spider plot compares the exceedance of the reference value in two or more scenarios. For this purpose, the upper half of the ditribution of the final concentration (50th to 99th quantile) is divided by the reference value. The resulting reference quotient is plotted in color scale."
   ]
  },
  {
   "cell_type": "code",
   "execution_count": null,
   "id": "88e11fb4",
   "metadata": {},
   "outputs": [],
   "source": [
    "er_profiles(\n",
    "    sim_results = [result_baseline[10], result_baseline[11],  result_baseline[13]],\n",
    "    no_mixture = True,\n",
    "    color_palette = ['#FF4A37', '#FC8604', '#2ED812'],\n",
    "    reference_value = None\n",
    ")\n",
    "plt.show()"
   ]
  },
  {
   "cell_type": "code",
   "execution_count": null,
   "id": "2f23e45d",
   "metadata": {},
   "outputs": [],
   "source": [
    "spider_plot([result_baseline[10], result_baseline[11],  result_baseline[13]])\n",
    "plt.show()"
   ]
  },
  {
   "cell_type": "code",
   "execution_count": null,
   "id": "8b727983",
   "metadata": {},
   "outputs": [],
   "source": [
    "spider_plot(result_baseline)\n",
    "plt.show()"
   ]
  }
 ],
 "metadata": {
  "kernelspec": {
   "display_name": "promisces",
   "language": "python",
   "name": "promisces"
  },
  "language_info": {
   "codemirror_mode": {
    "name": "ipython",
    "version": 3
   },
   "file_extension": ".py",
   "mimetype": "text/x-python",
   "name": "python",
   "nbconvert_exporter": "python",
   "pygments_lexer": "ipython3",
   "version": "3.11.10"
  }
 },
 "nbformat": 4,
 "nbformat_minor": 5
}
